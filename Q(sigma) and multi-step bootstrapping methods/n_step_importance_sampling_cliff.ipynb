{
 "cells": [
  {
   "cell_type": "markdown",
   "metadata": {},
   "source": [
    "\n"
   ]
  },
  {
   "cell_type": "markdown",
   "metadata": {},
   "source": [
    "# IPython Notebook 4: Cliff Walking Environment (With Importance Sampling Ratio)"
   ]
  },
  {
   "cell_type": "markdown",
   "metadata": {},
   "source": [
    "# Experimental Results\n"
   ]
  },
  {
   "cell_type": "code",
   "execution_count": 64,
   "metadata": {
    "collapsed": false
   },
   "outputs": [],
   "source": [
    "#import the libraries\n",
    "\n",
    "%matplotlib inline\n",
    "\n",
    "import gym\n",
    "import itertools\n",
    "import matplotlib\n",
    "import matplotlib.pyplot as plt\n",
    "import numpy as np\n",
    "import pandas as pd\n",
    "import sys\n",
    "import pylab\n",
    "#import gym_maze\n",
    "\n",
    "if \"../\" not in sys.path:\n",
    "  sys.path.append(\"../\") \n",
    "\n",
    "from collections import defaultdict\n",
    "from lib import plotting\n",
    "\n",
    "from lib.envs.windy_gridworld import WindyGridworldEnv\n",
    "from lib.envs.cliff_walking import CliffWalkingEnv\n",
    "from lib.envs.gridworld import GridworldEnv\n",
    "\n",
    "matplotlib.style.use('ggplot')\n"
   ]
  },
  {
   "cell_type": "code",
   "execution_count": 65,
   "metadata": {
    "collapsed": false
   },
   "outputs": [],
   "source": [
    "\n",
    "env = CliffWalkingEnv()\n",
    "\n"
   ]
  },
  {
   "cell_type": "code",
   "execution_count": 66,
   "metadata": {
    "collapsed": true
   },
   "outputs": [],
   "source": [
    "def make_epsilon_greedy_policy(Q, epsilon, nA):\n",
    "    \"\"\"\n",
    "    We choose an epsilon greedy policy here.\n",
    "    This is a cool helper function adapted from the WildML blog. \n",
    "    \"\"\"\n",
    "    \n",
    "    def policy_fn(observation):\n",
    "        A = np.ones(nA, dtype=float) * epsilon / nA\n",
    "        best_action = np.argmax(Q[observation])\n",
    "        A[best_action] += (1.0 - epsilon)\n",
    "        return A\n",
    "    return policy_fn"
   ]
  },
  {
   "cell_type": "code",
   "execution_count": 67,
   "metadata": {
    "collapsed": false
   },
   "outputs": [],
   "source": [
    "def create_random_policy(nA):\n",
    "    \"\"\"\n",
    "    Creates a random policy function.\n",
    "    \n",
    "    Args:\n",
    "        nA: Number of actions in the environment.\n",
    "    \n",
    "    Returns:\n",
    "        A function that takes an observation as input and returns a vector\n",
    "        of action probabilities\n",
    "    \"\"\"\n",
    "    A = np.ones(nA, dtype=float) / nA\n",
    "    def policy_fn(observation):\n",
    "        return A\n",
    "    return policy_fn"
   ]
  },
  {
   "cell_type": "code",
   "execution_count": 68,
   "metadata": {
    "collapsed": true
   },
   "outputs": [],
   "source": [
    "\n",
    "def create_greedy_policy(Q):\n",
    "    \"\"\"\n",
    "    Creates a greedy policy based on Q values.\n",
    "    \n",
    "    Args:\n",
    "        Q: A dictionary that maps from state -> action values\n",
    "        \n",
    "    Returns:\n",
    "        A function that takes an observation as input and returns a vector\n",
    "        of action probabilities.\n",
    "    \"\"\"\n",
    "    \n",
    "    def policy_fn(observation):\n",
    "        A = np.zeros_like(Q[observation], dtype=float)\n",
    "        best_action = np.argmax(Q[observation])\n",
    "        A[best_action] = 1.0\n",
    "        return A\n",
    "    return policy_fn"
   ]
  },
  {
   "cell_type": "markdown",
   "metadata": {
    "collapsed": false
   },
   "source": [
    "# n-step SARSA"
   ]
  },
  {
   "cell_type": "code",
   "execution_count": 69,
   "metadata": {
    "collapsed": false
   },
   "outputs": [],
   "source": [
    "\"\"\"\n",
    "n-step SARSA\n",
    "\"\"\"\n",
    "def n_sarsa(env, num_episodes, alpha, discount_factor, epsilon,n):\n",
    "   \n",
    "    \n",
    "    # The final action-value function.\n",
    "    # A nested dictionary that maps state -> (action -> action-value).\n",
    "    Q = defaultdict(lambda: np.zeros(env.action_space.n))\n",
    "    \n",
    "    # Keeps track of useful statistics\n",
    "    stats = plotting.EpisodeStats(\n",
    "        episode_lengths=np.zeros(num_episodes),\n",
    "        episode_rewards=np.zeros(num_episodes))\n",
    "\n",
    "    # The policy we're following\n",
    "    policy = make_epsilon_greedy_policy(Q, epsilon, env.action_space.n)\n",
    "    behaviour_policy = create_greedy_policy(Q)\n",
    "    \n",
    "    \n",
    "    for i_episode in range(num_episodes):\n",
    "        \n",
    "        states_list = []\n",
    "        actions_list = []\n",
    "        rewards_list = []\n",
    "        pi_rho = []\n",
    "        mu_rho = []\n",
    "        rho_list = []\n",
    "        \n",
    "        \n",
    "        # Reset the environment and pick the first action\n",
    "        state = env.reset()\n",
    "        #action_probs = policy(state)\n",
    "        #action = np.random.choice(np.arange(len(action_probs)), p=action_probs)\n",
    "        \n",
    "        action_probs = behaviour_policy(state)\n",
    "        action = np.random.choice(np.arange(len(action_probs)), p=action_probs)\n",
    "        \n",
    "        initial_state = state\n",
    "        initial_action = action\n",
    "        \n",
    "        \n",
    "        for t in itertools.count():\n",
    "            \n",
    "            next_state, reward, done, _ = env.step(action) #take an action At\n",
    "                \n",
    "            states_list.append(next_state) # St+1\n",
    "            rewards_list.append(reward) # Rt+1\n",
    "                \n",
    "            #next_action_probs = policy(next_state)  # Pick the next action\n",
    "            #next_action = np.random.choice(np.arange(len(next_action_probs)), p=next_action_probs)\n",
    "                \n",
    "                \n",
    "            next_action_probs = behaviour_policy(next_state)  # Pick the next action\n",
    "            next_action = np.random.choice(np.arange(len(next_action_probs)), p=next_action_probs)\n",
    "            \n",
    "            next_action_probs_target_policy = policy(next_state)\n",
    "            \n",
    "            actions_list.append(next_action) # At+1\n",
    "        \n",
    "            pi_rho.append(next_action_probs_target_policy[next_action])\n",
    "            mu_rho.append(next_action_probs[next_action])\n",
    "            \n",
    "            tau = t-n+1\n",
    "            rho_list.append(float(pi_rho[t]) / mu_rho[t])\n",
    "           \n",
    "            if tau == 0:\n",
    "                rho = 1\n",
    "            \n",
    "                \n",
    "                rho = np.prod(np.array(rho_list[tau:tau+n-1]))\n",
    "                G = 0\n",
    "                G = sum(rewards_list[tau:tau+n]) + Q[states_list[tau+n-1]][actions_list[tau+n-1]]\n",
    "                Q[initial_state][initial_action] = Q[initial_state][initial_action] + alpha * rho * (G - Q[initial_state][initial_action])\n",
    "            \n",
    "            elif tau > 0:\n",
    "                rho = 1\n",
    "                \n",
    "                rho = np.prod(np.array(rho_list[tau:tau+n-1]))\n",
    "                G = 0\n",
    "                G = sum(rewards_list[tau:tau+n]) + Q[states_list[tau+n-1]][actions_list[tau+n-1]] # tau+n\n",
    "                    \n",
    "               \n",
    "                Q[states_list[tau-1]][actions_list[tau-1]]  = Q[states_list[tau-1]][actions_list[tau-1]] + alpha * rho * (G - Q[states_list[tau-1]][actions_list[tau-1]])\n",
    "                \n",
    "                \n",
    "            \n",
    "            action = next_action\n",
    "            state = next_state\n",
    "                        \n",
    "            if done:\n",
    "                break\n",
    "            \n",
    "            # Update statistics\n",
    "        stats.episode_rewards[i_episode] = sum(rewards_list)\n",
    "        stats.episode_lengths[i_episode] = t\n",
    "        \n",
    "          \n",
    "    \n",
    "    return Q, stats"
   ]
  },
  {
   "cell_type": "code",
   "execution_count": 70,
   "metadata": {
    "collapsed": false,
    "scrolled": true
   },
   "outputs": [
    {
     "name": "stdout",
     "output_type": "stream",
     "text": [
      "Average reward is -100.112 for alpha= 0.1 eps= 0.1 discount factor= 1 for n-step SARSA for n= 4\n",
      "Average reward is -100.112 for alpha= 0.2 eps= 0.1 discount factor= 1 for n-step SARSA for n= 4\n",
      "Average reward is -100.112 for alpha= 0.3 eps= 0.1 discount factor= 1 for n-step SARSA for n= 4\n",
      "Average reward is -100.112 for alpha= 0.4 eps= 0.1 discount factor= 1 for n-step SARSA for n= 4\n",
      "Average reward is -100.112 for alpha= 0.5 eps= 0.1 discount factor= 1 for n-step SARSA for n= 4\n",
      "Average reward is -100.112 for alpha= 0.6 eps= 0.1 discount factor= 1 for n-step SARSA for n= 4\n",
      "Average reward is -100.112 for alpha= 0.7 eps= 0.1 discount factor= 1 for n-step SARSA for n= 4\n",
      "Average reward is -100.112 for alpha= 0.8 eps= 0.1 discount factor= 1 for n-step SARSA for n= 4\n",
      "Average reward is -100.112 for alpha= 0.9 eps= 0.1 discount factor= 1 for n-step SARSA for n= 4\n",
      "Average reward is -100.112 for alpha= 1.0 eps= 0.1 discount factor= 1 for n-step SARSA for n= 4\n"
     ]
    }
   ],
   "source": [
    "\n",
    "#n step sarsa\n",
    "\n",
    "n_episodes = 1500\n",
    "\n",
    "alpha = 1\n",
    "eps = 0.1\n",
    "gamma = 1\n",
    "n = 4\n",
    "\n",
    "alpha = np.zeros([10])\n",
    "alpha[0] = 0.1\n",
    "\n",
    "\n",
    "#random_policy = create_random_policy(env.action_space.n)\n",
    "#behaviour_policy = random_policy\n",
    "\n",
    "avg_reward_sarsa = np.zeros([10])\n",
    "for i in range(10):\n",
    "    \n",
    "    Q_sarsa, stats_sarsa = n_sarsa(env, n_episodes,alpha[i],gamma,eps,n)\n",
    "    avg_reward_sarsa[i] = np.sum(stats_sarsa.episode_rewards)/n_episodes\n",
    "    print \"Average reward is\", avg_reward_sarsa[i], \"for alpha=\", alpha[i], \"eps=\",eps,\"discount factor=\",gamma, \"for n-step SARSA\",\"for n=\",n\n",
    "    if i<9:\n",
    "        \n",
    "        alpha[i+1] = alpha[i] + 0.1\n",
    "\n"
   ]
  },
  {
   "cell_type": "markdown",
   "metadata": {
    "collapsed": false
   },
   "source": [
    "# n-step expected sarsa"
   ]
  },
  {
   "cell_type": "code",
   "execution_count": 71,
   "metadata": {
    "collapsed": false
   },
   "outputs": [],
   "source": [
    "\"\"\"\n",
    "n step expected SARSA\n",
    "\"\"\"\n",
    "def n_exp_sarsa(env, num_episodes, alpha, discount_factor, epsilon,n):\n",
    "   \n",
    "    \n",
    "    # The final action-value function.\n",
    "    # A nested dictionary that maps state -> (action -> action-value).\n",
    "    Q = defaultdict(lambda: np.zeros(env.action_space.n))\n",
    "    \n",
    "    # Keeps track of useful statistics\n",
    "    stats = plotting.EpisodeStats(\n",
    "        episode_lengths=np.zeros(num_episodes),\n",
    "        episode_rewards=np.zeros(num_episodes))\n",
    "\n",
    "    # The policy we're following\n",
    "    policy = make_epsilon_greedy_policy(Q, epsilon, env.action_space.n)\n",
    "    behaviour_policy = create_greedy_policy(Q)\n",
    "    \n",
    "    for i_episode in range(num_episodes):\n",
    "        \n",
    "        states_list = []\n",
    "        actions_list = []\n",
    "        rewards_list = []\n",
    "        pi_rho = []\n",
    "        mu_rho = []\n",
    "        rho_list = []\n",
    "        \n",
    "        \n",
    "        # Reset the environment and pick the first action\n",
    "        state = env.reset()\n",
    "        #action_probs = policy(state)\n",
    "        #action = np.random.choice(np.arange(len(action_probs)), p=action_probs)\n",
    "        \n",
    "        action_probs = behaviour_policy(state)\n",
    "        action = np.random.choice(np.arange(len(action_probs)), p=action_probs)\n",
    "        \n",
    "        initial_state = state\n",
    "        initial_action = action\n",
    "        \n",
    "        \n",
    "        for t in itertools.count():\n",
    "            \n",
    "            next_state, reward, done, _ = env.step(action) #take an action At\n",
    "                \n",
    "            states_list.append(next_state) # St+1\n",
    "            rewards_list.append(reward) # Rt+1\n",
    "                \n",
    "            next_action_probs = behaviour_policy(next_state)  # Pick the next action\n",
    "            next_action = np.random.choice(np.arange(len(next_action_probs)), p=next_action_probs)\n",
    "            \n",
    "            next_action_probs_target_policy = policy(next_state)\n",
    "            \n",
    "            actions_list.append(next_action) # At+1\n",
    "        \n",
    "            pi_rho.append(next_action_probs_target_policy[next_action])\n",
    "            mu_rho.append(next_action_probs[next_action])\n",
    "            \n",
    "            tau = t-n+1\n",
    "            rho_list.append(float(pi_rho[t]) / mu_rho[t])\n",
    "           \n",
    "            \n",
    "            if tau == 0:\n",
    "                rho = 1\n",
    "            \n",
    "                \n",
    "                rho = np.prod(np.array(rho_list[tau:tau+n-1]))\n",
    "                \n",
    "                G = 0\n",
    "                G = sum(rewards_list[tau:tau+n]) + np.sum(next_action_probs * Q[states_list[tau+n-1]])\n",
    "                Q[initial_state][initial_action] = Q[initial_state][initial_action] + alpha * rho* (G - Q[initial_state][initial_action])\n",
    "            elif tau > 0:\n",
    "                rho = 1\n",
    "                \n",
    "                rho = np.prod(np.array(rho_list[tau:tau+n-1]))\n",
    "                \n",
    "                G = 0\n",
    "                G = sum(rewards_list[tau:tau+n]) + np.sum(next_action_probs * Q[states_list[tau+n-1]])\n",
    "                    \n",
    "               \n",
    "                Q[states_list[tau-1]][actions_list[tau-1]]  = Q[states_list[tau-1]][actions_list[tau-1]] + alpha * rho* (G - Q[states_list[tau-1]][actions_list[tau-1]])\n",
    "                \n",
    "           \n",
    "                \n",
    "            \n",
    "            \n",
    "            action = next_action\n",
    "            state = next_state\n",
    "                        \n",
    "            if done:\n",
    "                break\n",
    "            \n",
    "            # Update statistics\n",
    "        stats.episode_rewards[i_episode] = sum(rewards_list)\n",
    "        stats.episode_lengths[i_episode] = t\n",
    "        \n",
    "          \n",
    "    \n",
    "    return Q, stats"
   ]
  },
  {
   "cell_type": "code",
   "execution_count": 72,
   "metadata": {
    "collapsed": false
   },
   "outputs": [
    {
     "name": "stdout",
     "output_type": "stream",
     "text": [
      "Average reward is -100.112 for alpha= 0.1 eps= 0.1 discount factor= 1 for n-step expected SARSA for n= 4\n",
      "Average reward is -100.112 for alpha= 0.2 eps= 0.1 discount factor= 1 for n-step expected SARSA for n= 4\n",
      "Average reward is -100.112 for alpha= 0.3 eps= 0.1 discount factor= 1 for n-step expected SARSA for n= 4\n",
      "Average reward is -100.112 for alpha= 0.4 eps= 0.1 discount factor= 1 for n-step expected SARSA for n= 4\n",
      "Average reward is -100.112 for alpha= 0.5 eps= 0.1 discount factor= 1 for n-step expected SARSA for n= 4\n",
      "Average reward is -100.112 for alpha= 0.6 eps= 0.1 discount factor= 1 for n-step expected SARSA for n= 4\n",
      "Average reward is -100.112 for alpha= 0.7 eps= 0.1 discount factor= 1 for n-step expected SARSA for n= 4\n",
      "Average reward is -100.112 for alpha= 0.8 eps= 0.1 discount factor= 1 for n-step expected SARSA for n= 4\n",
      "Average reward is -100.112 for alpha= 0.9 eps= 0.1 discount factor= 1 for n-step expected SARSA for n= 4\n",
      "Average reward is -100.112 for alpha= 1.0 eps= 0.1 discount factor= 1 for n-step expected SARSA for n= 4\n"
     ]
    }
   ],
   "source": [
    "\n",
    "#n expected step sarsa\n",
    "\n",
    "n_episodes = 1500\n",
    "\n",
    "eps = 0.1\n",
    "gamma = 1\n",
    "n = 4\n",
    "\n",
    "alpha = np.zeros([10])\n",
    "alpha[0] = 0.1\n",
    "\n",
    "avg_reward_exp_sarsa = np.zeros([10])\n",
    "for i in range(10):\n",
    "    \n",
    "    Q_exp_sarsa, stats_exp_sarsa = n_exp_sarsa(env, n_episodes,alpha[i],gamma,eps,n)\n",
    "    avg_reward_exp_sarsa[i] = np.sum(stats_exp_sarsa.episode_rewards)/n_episodes\n",
    "    print \"Average reward is\", avg_reward_exp_sarsa[i], \"for alpha=\", alpha[i], \"eps=\",eps,\"discount factor=\",gamma, \"for n-step expected SARSA\",\"for n=\",n\n",
    "    if i<9:\n",
    "        \n",
    "        alpha[i+1] = alpha[i] + 0.1\n",
    "\n"
   ]
  },
  {
   "cell_type": "markdown",
   "metadata": {
    "collapsed": false
   },
   "source": [
    "# Plots"
   ]
  },
  {
   "cell_type": "code",
   "execution_count": null,
   "metadata": {
    "collapsed": false,
    "scrolled": true
   },
   "outputs": [],
   "source": []
  },
  {
   "cell_type": "markdown",
   "metadata": {
    "collapsed": false
   },
   "source": [
    "# n-step tree backup"
   ]
  },
  {
   "cell_type": "code",
   "execution_count": 73,
   "metadata": {
    "collapsed": true
   },
   "outputs": [],
   "source": [
    "\"\"\"\n",
    "n step tree backup\n",
    "\"\"\"\n",
    "def n_step_tree(env, num_episodes, alpha, discount_factor, epsilon,n):\n",
    "   \n",
    "    \n",
    "    # The final action-value function.\n",
    "    # A nested dictionary that maps state -> (action -> action-value).\n",
    "    Q = defaultdict(lambda: np.zeros(env.action_space.n))\n",
    "    \n",
    "    # Keeps track of useful statistics\n",
    "    stats = plotting.EpisodeStats(\n",
    "        episode_lengths=np.zeros(num_episodes),\n",
    "        episode_rewards=np.zeros(num_episodes))\n",
    "\n",
    "    # The policy we're following\n",
    "    policy = make_epsilon_greedy_policy(Q, epsilon, env.action_space.n)\n",
    "    \n",
    "    \n",
    "    for i_episode in range(num_episodes):\n",
    "        \n",
    "        states_list = []\n",
    "        actions_list = []\n",
    "        rewards_list = []\n",
    "        delta_list = []\n",
    "        pi_values = []\n",
    "        \n",
    "        \n",
    "        # Reset the environment and pick the first action\n",
    "        state = env.reset()\n",
    "        action_probs = policy(state)\n",
    "        action = np.random.choice(np.arange(len(action_probs)), p=action_probs)\n",
    "        \n",
    "        initial_state = state\n",
    "        initial_action = action\n",
    "        \n",
    "        \n",
    "        for t in itertools.count():\n",
    "            \n",
    "            next_state, reward, done, _ = env.step(action) #take an action At\n",
    "                \n",
    "            states_list.append(next_state) # St+1\n",
    "            rewards_list.append(reward) # Rt+1\n",
    "            \n",
    "                \n",
    "            next_action_probs = policy(next_state)  \n",
    "            \n",
    "            \n",
    "            delta_list.append(reward + discount_factor * np.sum(next_action_probs * Q[next_state]) - Q[state][action]) #delta_t\n",
    "            \n",
    "            # Pick the next action At+1\n",
    "            next_action = np.random.choice(np.arange(len(next_action_probs)), p=next_action_probs) \n",
    "            \n",
    "            actions_list.append(next_action) # At+1\n",
    "        \n",
    "            pi_values.append(next_action_probs[next_action])\n",
    "            \n",
    "            tau = t-n+1\n",
    "            \n",
    "            if tau == 0:\n",
    "                \n",
    "                E = 1\n",
    "                G = Q[initial_state][initial_action]\n",
    "                \n",
    "                for k in range(n):\n",
    "                    \n",
    "                    G = G + E * delta_list[k]\n",
    "                    E = discount_factor * E * pi_values[k]\n",
    "                \n",
    "                Q[initial_state][initial_action] = Q[initial_state][initial_action] + alpha * (G - Q[initial_state][initial_action])\n",
    "            \n",
    "            \n",
    "            elif tau > 0:\n",
    "                \n",
    "                E = 1\n",
    "                G = Q[states_list[tau-1]][actions_list[tau-1]]\n",
    "                \n",
    "                for k in range(n):\n",
    "                    j = k + tau\n",
    "                    G = G + E * delta_list[j]\n",
    "                    E = discount_factor * E * pi_values[j]\n",
    "                \n",
    "                Q[states_list[tau-1]][actions_list[tau-1]] = Q[states_list[tau-1]][actions_list[tau-1]] + alpha * (G - Q[states_list[tau-1]][actions_list[tau-1]])\n",
    "            \n",
    "                \n",
    "                \n",
    "            '''\n",
    "            if tau == 0:\n",
    "                \n",
    "                G = 0\n",
    "                G = sum(rewards_list[tau:tau+n]) + np.sum(next_action_probs * Q[states_list[tau+n-1]])\n",
    "                Q[initial_state][initial_action] = Q[initial_state][initial_action] + alpha * (G - Q[initial_state][initial_action])\n",
    "           \n",
    "            elif tau > 0:\n",
    "                \n",
    "                G = 0\n",
    "                G = sum(rewards_list[tau:tau+n]) + np.sum(next_action_probs * Q[states_list[tau+n-1]])\n",
    "                    \n",
    "               \n",
    "                Q[states_list[tau-1]][actions_list[tau-1]]  = Q[states_list[tau-1]][actions_list[tau-1]] + alpha * (G - Q[states_list[tau-1]][actions_list[tau-1]])\n",
    "            \n",
    "            '''\n",
    "           \n",
    "            action = next_action\n",
    "            state = next_state\n",
    "                        \n",
    "            if done:\n",
    "                break\n",
    "            \n",
    "            # Update statistics\n",
    "        stats.episode_rewards[i_episode] = sum(rewards_list)\n",
    "        stats.episode_lengths[i_episode] = t\n",
    "        \n",
    "        \n",
    "          \n",
    "    \n",
    "    return Q, stats"
   ]
  },
  {
   "cell_type": "code",
   "execution_count": 74,
   "metadata": {
    "collapsed": false
   },
   "outputs": [
    {
     "name": "stdout",
     "output_type": "stream",
     "text": [
      "Average reward is -100.2 for alpha= 0.1 eps= 0.1 discount factor= 1 for n-step tree backup for n= 4\n",
      "Average reward is -100.300666667 for alpha= 0.2 eps= 0.1 discount factor= 1 for n-step tree backup for n= 4\n",
      "Average reward is -100.206 for alpha= 0.3 eps= 0.1 discount factor= 1 for n-step tree backup for n= 4\n",
      "Average reward is -100.285333333 for alpha= 0.4 eps= 0.1 discount factor= 1 for n-step tree backup for n= 4\n",
      "Average reward is -100.226666667 for alpha= 0.5 eps= 0.1 discount factor= 1 for n-step tree backup for n= 4\n",
      "Average reward is -100.176 for alpha= 0.6 eps= 0.1 discount factor= 1 for n-step tree backup for n= 4\n",
      "Average reward is -100.210666667 for alpha= 0.7 eps= 0.1 discount factor= 1 for n-step tree backup for n= 4\n",
      "Average reward is -100.154 for alpha= 0.8 eps= 0.1 discount factor= 1 for n-step tree backup for n= 4\n",
      "Average reward is -100.202666667 for alpha= 0.9 eps= 0.1 discount factor= 1 for n-step tree backup for n= 4\n",
      "Average reward is -100.172666667 for alpha= 1.0 eps= 0.1 discount factor= 1 for n-step tree backup for n= 4\n"
     ]
    }
   ],
   "source": [
    "#n-step tree backup\n",
    "\n",
    "n_episodes = 1500\n",
    "\n",
    "eps = 0.1\n",
    "gamma = 1\n",
    "n = 4\n",
    "\n",
    "alpha = np.zeros([10])\n",
    "alpha[0] = 0.1\n",
    "\n",
    "avg_reward_n_tree = np.zeros([10])\n",
    "for i in range(10):\n",
    "    \n",
    "    Q_n_tree, stats_n_tree = n_step_tree(env, n_episodes,alpha[i],gamma,eps,n)\n",
    "    avg_reward_n_tree[i] = np.sum(stats_n_tree.episode_rewards)/n_episodes\n",
    "    print \"Average reward is\", avg_reward_n_tree[i], \"for alpha=\", alpha[i], \"eps=\",eps,\"discount factor=\",gamma, \"for n-step tree backup\",\"for n=\",n\n",
    "    if i<9:\n",
    "        \n",
    "        alpha[i+1] = alpha[i] + 0.1\n",
    "\n"
   ]
  },
  {
   "cell_type": "markdown",
   "metadata": {},
   "source": []
  },
  {
   "cell_type": "code",
   "execution_count": null,
   "metadata": {
    "collapsed": false,
    "scrolled": true
   },
   "outputs": [],
   "source": []
  },
  {
   "cell_type": "markdown",
   "metadata": {},
   "source": [
    "# n-step Q(sigma)"
   ]
  },
  {
   "cell_type": "code",
   "execution_count": 75,
   "metadata": {
    "collapsed": false
   },
   "outputs": [],
   "source": [
    "\"\"\"\n",
    "n step Q(sigma)\n",
    "\"\"\"\n",
    "\n",
    "def n_step_q_sigma(env, num_episodes, alpha, discount_factor, epsilon,n):\n",
    "   \n",
    "    \n",
    "    # The final action-value function.\n",
    "    # A nested dictionary that maps state -> (action -> action-value).\n",
    "    Q = defaultdict(lambda: np.zeros(env.action_space.n))\n",
    "    \n",
    "    # Keeps track of useful statistics\n",
    "    stats = plotting.EpisodeStats(\n",
    "        episode_lengths=np.zeros(num_episodes),\n",
    "        episode_rewards=np.zeros(num_episodes))\n",
    "\n",
    "    # The policy we're following\n",
    "    policy = make_epsilon_greedy_policy(Q, epsilon, env.action_space.n)\n",
    "    behaviour_policy = create_greedy_policy(Q)\n",
    "    \n",
    "    \n",
    "    for i_episode in range(num_episodes):\n",
    "        \n",
    "        states_list = []\n",
    "        actions_list = []\n",
    "        rewards_list = []\n",
    "        delta_list = []\n",
    "        pi_values = []\n",
    "        sigma_values = []\n",
    "        pi_rho = []\n",
    "        mu_rho = []\n",
    "        rho_list = []\n",
    "        \n",
    "        \n",
    "        # Reset the environment and pick the first action\n",
    "        state = env.reset()\n",
    "        #action_probs = policy(state)\n",
    "        #action = np.random.choice(np.arange(len(action_probs)), p=action_probs)\n",
    "        \n",
    "        action_probs = behaviour_policy(state)\n",
    "        action = np.random.choice(np.arange(len(action_probs)), p=action_probs)\n",
    "        \n",
    "        initial_state = state\n",
    "        initial_action = action\n",
    "        \n",
    "        \n",
    "        for t in itertools.count():\n",
    "            \n",
    "            next_state, reward, done, _ = env.step(action) #take an action At\n",
    "                \n",
    "            states_list.append(next_state) # St+1\n",
    "            rewards_list.append(reward) # Rt+1\n",
    "            \n",
    "                \n",
    "            #next_action_probs = policy(next_state)  \n",
    "            \n",
    "            # Pick the next action At+1\n",
    "            #next_action = np.random.choice(np.arange(len(next_action_probs)), p=next_action_probs) \n",
    "            \n",
    "            next_action_probs = behaviour_policy(next_state)  # Pick the next action\n",
    "            next_action = np.random.choice(np.arange(len(next_action_probs)), p=next_action_probs)\n",
    "            \n",
    "            next_action_probs_target_policy = policy(next_state)\n",
    "            \n",
    "            actions_list.append(next_action) # At+1\n",
    "            \n",
    "            \n",
    "            \n",
    "            \n",
    "            # Store sigma values fo n=4\n",
    "            \n",
    "            if t==0:\n",
    "                sigma_values.append(1)\n",
    "            elif t==1:\n",
    "                sigma_values.append(0)\n",
    "            elif t%2 ==0 and t!=0:\n",
    "                sigma_values.append(1)\n",
    "            else:\n",
    "                sigma_values.append(0)\n",
    "                    \n",
    "                    \n",
    "            delta_list.append(reward + sigma_values[t]* Q[state][action] + discount_factor * (1 - sigma_values[t]) * np.sum(next_action_probs_target_policy * Q[next_state]) - Q[state][action]) #delta_t\n",
    "\n",
    "            pi_rho.append(next_action_probs_target_policy[next_action])\n",
    "            mu_rho.append(next_action_probs[next_action])\n",
    "            \n",
    "            rho_list.append(float(pi_rho[t]) / mu_rho[t])\n",
    "            \n",
    "            pi_values.append(next_action_probs_target_policy[next_action])\n",
    "            \n",
    "            tau = t-n+1\n",
    "            \n",
    "            if tau == 0:\n",
    "                rho = 1\n",
    "                E = 1\n",
    "                G = Q[initial_state][initial_action]\n",
    "                \n",
    "                for k in range(n):\n",
    "                    \n",
    "                    G = G + E * delta_list[k]\n",
    "                    E = discount_factor * E * ((1-sigma_values[k])*pi_values[k] + sigma_values[k])\n",
    "                    rho = rho * (1 - sigma_values[k] + sigma_values[k]*rho_list[k])\n",
    "                \n",
    "                Q[initial_state][initial_action] = Q[initial_state][initial_action] + alpha * rho * (G - Q[initial_state][initial_action])\n",
    "            \n",
    "                if done:\n",
    "                    break\n",
    "            \n",
    "            elif tau > 0:\n",
    "                rho = 1\n",
    "                E = 1\n",
    "                G = Q[states_list[tau-1]][actions_list[tau-1]]\n",
    "                \n",
    "                for k in range(n):\n",
    "                    j = k + tau\n",
    "                    G = G + E * delta_list[j]\n",
    "                    E = discount_factor * E * ((1-sigma_values[j])*pi_values[j] + sigma_values[j])\n",
    "                    rho = rho * (1 - sigma_values[j] + sigma_values[j]*rho_list[j])\n",
    "                    \n",
    "                Q[states_list[tau-1]][actions_list[tau-1]] = Q[states_list[tau-1]][actions_list[tau-1]] + alpha * rho * (G - Q[states_list[tau-1]][actions_list[tau-1]])\n",
    "            \n",
    "                if done:\n",
    "                    break\n",
    "            action = next_action\n",
    "            state = next_state\n",
    "                        \n",
    "            if done:\n",
    "                break\n",
    "            \n",
    "            # Update statistics\n",
    "        stats.episode_rewards[i_episode] = sum(rewards_list)\n",
    "        stats.episode_lengths[i_episode] = t\n",
    "        \n",
    "          \n",
    "    \n",
    "    return Q, stats"
   ]
  },
  {
   "cell_type": "code",
   "execution_count": 76,
   "metadata": {
    "collapsed": false
   },
   "outputs": [
    {
     "name": "stdout",
     "output_type": "stream",
     "text": [
      "Average reward is -100.112 for alpha= 0.1 eps= 0.1 discount factor= 1 for n-step tree backup for n= 4\n",
      "Average reward is -100.112 for alpha= 0.2 eps= 0.1 discount factor= 1 for n-step tree backup for n= 4\n",
      "Average reward is -100.112 for alpha= 0.3 eps= 0.1 discount factor= 1 for n-step tree backup for n= 4\n",
      "Average reward is -100.112 for alpha= 0.4 eps= 0.1 discount factor= 1 for n-step tree backup for n= 4\n",
      "Average reward is -100.112 for alpha= 0.5 eps= 0.1 discount factor= 1 for n-step tree backup for n= 4\n",
      "Average reward is -100.112 for alpha= 0.6 eps= 0.1 discount factor= 1 for n-step tree backup for n= 4\n",
      "Average reward is -100.112 for alpha= 0.7 eps= 0.1 discount factor= 1 for n-step tree backup for n= 4\n",
      "Average reward is -100.112 for alpha= 0.8 eps= 0.1 discount factor= 1 for n-step tree backup for n= 4\n",
      "Average reward is -100.112 for alpha= 0.9 eps= 0.1 discount factor= 1 for n-step tree backup for n= 4\n",
      "Average reward is -100.112 for alpha= 1.0 eps= 0.1 discount factor= 1 for n-step tree backup for n= 4\n"
     ]
    }
   ],
   "source": [
    "#n-step Q(sigma)\n",
    "\n",
    "n_episodes = 1500\n",
    "\n",
    "eps = 0.1\n",
    "gamma = 1\n",
    "n = 4\n",
    "\n",
    "alpha = np.zeros([10])\n",
    "alpha[0] = 0.1\n",
    "\n",
    "avg_reward_n_sigma = np.zeros([10])\n",
    "for i in range(10):\n",
    "    \n",
    "    Q_q_sigma, stats_q_sigma = n_step_q_sigma(env, n_episodes,alpha[i],gamma,eps,n)\n",
    "    avg_reward_n_sigma[i] = np.sum(stats_q_sigma.episode_rewards)/n_episodes\n",
    "    print \"Average reward is\", avg_reward_n_sigma[i], \"for alpha=\", alpha[i], \"eps=\",eps,\"discount factor=\",gamma, \"for n-step tree backup\",\"for n=\",n\n",
    "    if i<9:\n",
    "        \n",
    "        alpha[i+1] = alpha[i] + 0.1\n",
    "\n"
   ]
  },
  {
   "cell_type": "code",
   "execution_count": 77,
   "metadata": {
    "collapsed": false
   },
   "outputs": [
    {
     "name": "stdout",
     "output_type": "stream",
     "text": [
      "Average reward is -100.112 for alpha= 0.1 eps= 0.1 discount factor= 1 for n-step SARSA for n= 1\n",
      "Average reward is -100.112 for alpha= 0.2 eps= 0.1 discount factor= 1 for n-step SARSA for n= 1\n",
      "Average reward is -100.112 for alpha= 0.3 eps= 0.1 discount factor= 1 for n-step SARSA for n= 1\n",
      "Average reward is -100.112 for alpha= 0.4 eps= 0.1 discount factor= 1 for n-step SARSA for n= 1\n",
      "Average reward is -100.112 for alpha= 0.5 eps= 0.1 discount factor= 1 for n-step SARSA for n= 1\n",
      "Average reward is -100.112 for alpha= 0.6 eps= 0.1 discount factor= 1 for n-step SARSA for n= 1\n",
      "Average reward is -100.112 for alpha= 0.7 eps= 0.1 discount factor= 1 for n-step SARSA for n= 1\n",
      "Average reward is -100.112 for alpha= 0.8 eps= 0.1 discount factor= 1 for n-step SARSA for n= 1\n",
      "Average reward is -100.112 for alpha= 0.9 eps= 0.1 discount factor= 1 for n-step SARSA for n= 1\n",
      "Average reward is -100.112 for alpha= 1.0 eps= 0.1 discount factor= 1 for n-step SARSA for n= 1\n"
     ]
    }
   ],
   "source": [
    "#one step sarsa\n",
    "\n",
    "n_episodes = 1500\n",
    "\n",
    "alpha = 1\n",
    "eps = 0.1\n",
    "gamma = 1\n",
    "n = 1\n",
    "\n",
    "alpha = np.zeros([10])\n",
    "alpha[0] = 0.1\n",
    "\n",
    "\n",
    "#random_policy = create_random_policy(env.action_space.n)\n",
    "#behaviour_policy = random_policy\n",
    "\n",
    "avg_reward_sarsa_one = np.zeros([10])\n",
    "for i in range(10):\n",
    "    \n",
    "    Q_sarsa_one, stats_sarsa_one = n_sarsa(env, n_episodes,alpha[i],gamma,eps,n)\n",
    "    avg_reward_sarsa_one[i] = np.sum(stats_sarsa_one.episode_rewards)/n_episodes\n",
    "    print \"Average reward is\", avg_reward_sarsa[i], \"for alpha=\", alpha[i], \"eps=\",eps,\"discount factor=\",gamma, \"for n-step SARSA\",\"for n=\",n\n",
    "    if i<9:\n",
    "        \n",
    "        alpha[i+1] = alpha[i] + 0.1"
   ]
  },
  {
   "cell_type": "code",
   "execution_count": 78,
   "metadata": {
    "collapsed": false
   },
   "outputs": [
    {
     "name": "stdout",
     "output_type": "stream",
     "text": [
      "Average reward is -100.112 for alpha= 0.1 eps= 0.1 discount factor= 1 for n-step expected SARSA for n= 1\n",
      "Average reward is -100.112 for alpha= 0.2 eps= 0.1 discount factor= 1 for n-step expected SARSA for n= 1\n",
      "Average reward is -100.112 for alpha= 0.3 eps= 0.1 discount factor= 1 for n-step expected SARSA for n= 1\n",
      "Average reward is -100.112 for alpha= 0.4 eps= 0.1 discount factor= 1 for n-step expected SARSA for n= 1\n",
      "Average reward is -100.112 for alpha= 0.5 eps= 0.1 discount factor= 1 for n-step expected SARSA for n= 1\n",
      "Average reward is -100.112 for alpha= 0.6 eps= 0.1 discount factor= 1 for n-step expected SARSA for n= 1\n",
      "Average reward is -100.112 for alpha= 0.7 eps= 0.1 discount factor= 1 for n-step expected SARSA for n= 1\n",
      "Average reward is -100.112 for alpha= 0.8 eps= 0.1 discount factor= 1 for n-step expected SARSA for n= 1\n",
      "Average reward is -100.112 for alpha= 0.9 eps= 0.1 discount factor= 1 for n-step expected SARSA for n= 1\n",
      "Average reward is -100.112 for alpha= 1.0 eps= 0.1 discount factor= 1 for n-step expected SARSA for n= 1\n"
     ]
    }
   ],
   "source": [
    "#one step expected step sarsa\n",
    "\n",
    "n_episodes = 1500\n",
    "\n",
    "eps = 0.1\n",
    "gamma = 1\n",
    "n = 1\n",
    "\n",
    "alpha = np.zeros([10])\n",
    "alpha[0] = 0.1\n",
    "\n",
    "avg_reward_exp_sarsa_one = np.zeros([10])\n",
    "for i in range(10):\n",
    "    \n",
    "    Q_exp_sarsa_one, stats_exp_sarsa_one = n_exp_sarsa(env, n_episodes,alpha[i],gamma,eps,n)\n",
    "    avg_reward_exp_sarsa_one[i] = np.sum(stats_exp_sarsa_one.episode_rewards)/n_episodes\n",
    "    print \"Average reward is\", avg_reward_exp_sarsa[i], \"for alpha=\", alpha[i], \"eps=\",eps,\"discount factor=\",gamma, \"for n-step expected SARSA\",\"for n=\",n\n",
    "    if i<9:\n",
    "        \n",
    "        alpha[i+1] = alpha[i] + 0.1\n"
   ]
  },
  {
   "cell_type": "markdown",
   "metadata": {},
   "source": [
    "# PLOTS"
   ]
  },
  {
   "cell_type": "code",
   "execution_count": 79,
   "metadata": {
    "collapsed": false
   },
   "outputs": [
    {
     "data": {
      "image/png": "[encoded data removed]",
      "text/plain": [
       "<matplotlib.figure.Figure at 0x10435ef10>"
      ]
     },
     "metadata": {},
     "output_type": "display_data"
    }
   ],
   "source": [
    "# Plot the above calculated statistics\n",
    "\n",
    "plt.figure(figsize=(10,10))\n",
    "    \n",
    "\n",
    "plt.title(\"Average returns over the episodes v/s Alpha where eps = 0.1 and gamma=1 \\n\")\n",
    "plt.xlabel('Alpha')\n",
    "plt.ylabel('Average Return')\n",
    "\n",
    "\n",
    "plt.plot(alpha, avg_reward_sarsa, label='n-step_sarsa')\n",
    "plt.plot(alpha, avg_reward_sarsa_one, label='one-step_sarsa')\n",
    "plt.plot(alpha, avg_reward_exp_sarsa, label='n-step_exp_sarsa')\n",
    "plt.plot(alpha, avg_reward_exp_sarsa_one, label='one-step_exp_sarsa')\n",
    "plt.plot(alpha, avg_reward_n_tree, label='n-step_tree_backup')\n",
    "plt.plot(alpha, avg_reward_n_sigma, label='n-step_q_sigma')\n",
    "\n",
    "plt.legend(loc=\"best\")\n",
    "\n",
    "plt.show()"
   ]
  },
  {
   "cell_type": "code",
   "execution_count": 81,
   "metadata": {
    "collapsed": false
   },
   "outputs": [
    {
     "data": {
      "image/png": "[encoded data removed]",
      "text/plain": [
       "<matplotlib.figure.Figure at 0x1169d3150>"
      ]
     },
     "metadata": {},
     "output_type": "display_data"
    },
    {
     "data": {
      "image/png": "[encoded data removed]",
      "text/plain": [
       "<matplotlib.figure.Figure at 0x116ef8e10>"
      ]
     },
     "metadata": {},
     "output_type": "display_data"
    },
    {
     "data": {
      "image/png": "[encoded data removed]",
      "text/plain": [
       "<matplotlib.figure.Figure at 0x11729de50>"
      ]
     },
     "metadata": {},
     "output_type": "display_data"
    },
    {
     "data": {
      "text/plain": [
       "(<matplotlib.figure.Figure at 0x1169d3150>,\n",
       " <matplotlib.figure.Figure at 0x116ef8e10>,\n",
       " <matplotlib.figure.Figure at 0x11729de50>)"
      ]
     },
     "execution_count": 81,
     "metadata": {},
     "output_type": "execute_result"
    }
   ],
   "source": [
    "\"\"\"\n",
    "Sample Statistics done only for expected sarsa for the sake of clarity:\n",
    "\n",
    "1. Episode length vs Number of episodes\n",
    "2. Episode average reward vs Number of episodes\n",
    "3. Number of episodes vs Time\n",
    "\n",
    "\n",
    "\"\"\"\n",
    "\n",
    "plotting.plot_episode_stats(stats_exp_sarsa)"
   ]
  },
  {
   "cell_type": "markdown",
   "metadata": {},
   "source": [
    "# The End"
   ]
  }
 ],
 "metadata": {
  "anaconda-cloud": {},
  "kernelspec": {
   "display_name": "Python [conda root]",
   "language": "python",
   "name": "conda-root-py"
  },
  "language_info": {
   "codemirror_mode": {
    "name": "ipython",
    "version": 2
   },
   "file_extension": ".py",
   "mimetype": "text/x-python",
   "name": "python",
   "nbconvert_exporter": "python",
   "pygments_lexer": "ipython2",
   "version": "2.7.12"
  }
 },
 "nbformat": 4,
 "nbformat_minor": 0
}
