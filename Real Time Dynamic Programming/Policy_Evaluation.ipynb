{
 "cells": [
  {
   "cell_type": "code",
   "execution_count": 78,
   "metadata": {
    "collapsed": false
   },
   "outputs": [],
   "source": [
    "\"\"\"\n",
    "Define all the libraries and make an environment\n",
    "\"\"\"\n",
    "\n",
    "import numpy as np\n",
    "import sys\n",
    "if \"../\" not in sys.path:\n",
    "  sys.path.append(\"../\") \n",
    "from lib.envs.gridworld import GridworldEnv\n",
    "env = GridworldEnv()"
   ]
  },
  {
   "cell_type": "code",
   "execution_count": 79,
   "metadata": {
    "collapsed": false
   },
   "outputs": [],
   "source": [
    "def evaluate_policy(policy, env, lambda_value=0.2, theta=0.0001):\n",
    "    \"\"\"\n",
    "    \n",
    "    This function returns a vector of the value function of each state\n",
    "        \n",
    "    \"\"\"\n",
    "    # Start with a random value function. Here, I have used zeros.\n",
    "    V = np.zeros(env.nS)\n",
    "    t = 0\n",
    "    while True:\n",
    "        delta = 0\n",
    "        # Iterate over each state\n",
    "        for s in range(env.nS):\n",
    "            value = 0\n",
    "            # See actions given a state\n",
    "            for a, action_prob in enumerate(policy[s]):\n",
    "                # Given state and action, see the next sate and immediate reward\n",
    "                for  prob, next_state, reward, done in env.P[s][a]:\n",
    "                    # Calculate the expected value at each iteration\n",
    "                    value += action_prob * prob * (reward + lambda_value * V[next_state])\n",
    "            # Change in value function over states in each iteration\n",
    "            delta = max(delta, np.abs(value - V[s]))\n",
    "            V[s] = value\n",
    "        # Stop at a certain threshold\n",
    "        t +=1\n",
    "        if delta < theta:\n",
    "            break\n",
    "    return (np.array(V),t)"
   ]
  },
  {
   "cell_type": "code",
   "execution_count": 80,
   "metadata": {
    "collapsed": false
   },
   "outputs": [
    {
     "name": "stdout",
     "output_type": "stream",
     "text": [
      "Value Function\n",
      "[ 0.         -1.18366196 -1.24642763 -1.24959779 -1.18366196 -1.24326209\n",
      " -1.24896873 -1.24643287 -1.24642763 -1.24896873 -1.24326352 -1.18366814\n",
      " -1.24959779 -1.24643287 -1.18366814  0.        ]\n",
      "\n",
      "Reshaped Grid Value Function\n",
      "[[ 0.         -1.18366196 -1.24642763 -1.24959779]\n",
      " [-1.18366196 -1.24326209 -1.24896873 -1.24643287]\n",
      " [-1.24642763 -1.24896873 -1.24326352 -1.18366814]\n",
      " [-1.24959779 -1.24643287 -1.18366814  0.        ]]\n",
      "\n",
      "For lambda value of 0.2 and threshold of 0.00001, the number of iterations taken to converge:\n",
      "6\n"
     ]
    }
   ],
   "source": [
    "random_policy = np.ones([env.nS, env.nA]) / env.nA\n",
    "#Compute the vector of the state value functions\n",
    "v = evaluate_policy(random_policy, env)[0]\n",
    "\n",
    "print(\"Value Function\")\n",
    "print(v)\n",
    "print(\"\")\n",
    "\n",
    "#Resahpe into a grid\n",
    "print(\"Reshaped Grid Value Function\")\n",
    "print(v.reshape(env.shape))\n",
    "print(\"\")\n",
    "\n",
    "#Number of iterations\n",
    "print(\"For lambda value of 0.2 and threshold of 0.00001, the number of iterations taken to converge:\")\n",
    "print(evaluate_policy(random_policy, env)[1])\n",
    "\n",
    "#Credits: WildML and OpenAI gym"
   ]
  }
 ],
 "metadata": {
  "anaconda-cloud": {},
  "kernelspec": {
   "display_name": "Python [default]",
   "language": "python",
   "name": "python2"
  },
  "language_info": {
   "codemirror_mode": {
    "name": "ipython",
    "version": 2.0
   },
   "file_extension": ".py",
   "mimetype": "text/x-python",
   "name": "python",
   "nbconvert_exporter": "python",
   "pygments_lexer": "ipython2",
   "version": "2.7.12"
  }
 },
 "nbformat": 4,
 "nbformat_minor": 0
}